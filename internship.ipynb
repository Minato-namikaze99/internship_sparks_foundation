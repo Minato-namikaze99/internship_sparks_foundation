{
 "cells": [
  {
   "cell_type": "markdown",
   "id": "ba78064d",
   "metadata": {},
   "source": [
    "# Hello! This notebook is made by Indrajit"
   ]
  },
  {
   "cell_type": "markdown",
   "id": "d0ece780",
   "metadata": {},
   "source": [
    "# **Internship at The Sparks Foundation**"
   ]
  },
  {
   "cell_type": "markdown",
   "id": "280578ca",
   "metadata": {},
   "source": [
    "# Prediction using Supervised ML\n",
    "This is a machine learning notebook where we are training the machine to predict the scores of a student based on the hours the student studies. In this task, we will use simple linear regression and train the model accordingly."
   ]
  },
  {
   "cell_type": "markdown",
   "id": "439d5931",
   "metadata": {},
   "source": [
    "### Author : Indrajit Mandal"
   ]
  },
  {
   "cell_type": "code",
   "execution_count": 1,
   "id": "c2afdad1",
   "metadata": {},
   "outputs": [],
   "source": [
    "#importing necessary libraries \n",
    "import pandas as pd\n",
    "import numpy as np\n",
    "import matplotlib.pyplot as pyplt\n",
    "import seaborn as sns\n",
    "%matplotlib inline"
   ]
  },
  {
   "cell_type": "markdown",
   "id": "741c92da",
   "metadata": {},
   "source": [
    "**Opening the data**"
   ]
  },
  {
   "cell_type": "code",
   "execution_count": 2,
   "id": "cb786004",
   "metadata": {},
   "outputs": [
    {
     "name": "stdout",
     "output_type": "stream",
     "text": [
      "Data imported successfully!!\n"
     ]
    }
   ],
   "source": [
    "url = \"http://bit.ly/w-data\"\n",
    "df= pd.read_csv(url)\n",
    "print(\"Data imported successfully!!\")"
   ]
  },
  {
   "cell_type": "markdown",
   "id": "77f5e1e8",
   "metadata": {},
   "source": [
    "**Checking out the data**"
   ]
  },
  {
   "cell_type": "code",
   "execution_count": 3,
   "id": "3fcfd243",
   "metadata": {},
   "outputs": [
    {
     "data": {
      "text/html": [
       "<div>\n",
       "<style scoped>\n",
       "    .dataframe tbody tr th:only-of-type {\n",
       "        vertical-align: middle;\n",
       "    }\n",
       "\n",
       "    .dataframe tbody tr th {\n",
       "        vertical-align: top;\n",
       "    }\n",
       "\n",
       "    .dataframe thead th {\n",
       "        text-align: right;\n",
       "    }\n",
       "</style>\n",
       "<table border=\"1\" class=\"dataframe\">\n",
       "  <thead>\n",
       "    <tr style=\"text-align: right;\">\n",
       "      <th></th>\n",
       "      <th>Hours</th>\n",
       "      <th>Scores</th>\n",
       "    </tr>\n",
       "  </thead>\n",
       "  <tbody>\n",
       "    <tr>\n",
       "      <th>0</th>\n",
       "      <td>2.5</td>\n",
       "      <td>21</td>\n",
       "    </tr>\n",
       "    <tr>\n",
       "      <th>1</th>\n",
       "      <td>5.1</td>\n",
       "      <td>47</td>\n",
       "    </tr>\n",
       "    <tr>\n",
       "      <th>2</th>\n",
       "      <td>3.2</td>\n",
       "      <td>27</td>\n",
       "    </tr>\n",
       "    <tr>\n",
       "      <th>3</th>\n",
       "      <td>8.5</td>\n",
       "      <td>75</td>\n",
       "    </tr>\n",
       "    <tr>\n",
       "      <th>4</th>\n",
       "      <td>3.5</td>\n",
       "      <td>30</td>\n",
       "    </tr>\n",
       "    <tr>\n",
       "      <th>5</th>\n",
       "      <td>1.5</td>\n",
       "      <td>20</td>\n",
       "    </tr>\n",
       "    <tr>\n",
       "      <th>6</th>\n",
       "      <td>9.2</td>\n",
       "      <td>88</td>\n",
       "    </tr>\n",
       "    <tr>\n",
       "      <th>7</th>\n",
       "      <td>5.5</td>\n",
       "      <td>60</td>\n",
       "    </tr>\n",
       "    <tr>\n",
       "      <th>8</th>\n",
       "      <td>8.3</td>\n",
       "      <td>81</td>\n",
       "    </tr>\n",
       "    <tr>\n",
       "      <th>9</th>\n",
       "      <td>2.7</td>\n",
       "      <td>25</td>\n",
       "    </tr>\n",
       "  </tbody>\n",
       "</table>\n",
       "</div>"
      ],
      "text/plain": [
       "   Hours  Scores\n",
       "0    2.5      21\n",
       "1    5.1      47\n",
       "2    3.2      27\n",
       "3    8.5      75\n",
       "4    3.5      30\n",
       "5    1.5      20\n",
       "6    9.2      88\n",
       "7    5.5      60\n",
       "8    8.3      81\n",
       "9    2.7      25"
      ]
     },
     "execution_count": 3,
     "metadata": {},
     "output_type": "execute_result"
    }
   ],
   "source": [
    "df.head(10)"
   ]
  },
  {
   "cell_type": "markdown",
   "id": "06a5f343",
   "metadata": {},
   "source": [
    "**Data visualisations**\n",
    "\n",
    "Some data visualisations so that we can find the relation between the marks and the time studied by the student"
   ]
  },
  {
   "cell_type": "code",
   "execution_count": 4,
   "id": "7c8948c0",
   "metadata": {},
   "outputs": [
    {
     "data": {
      "text/plain": [
       "<AxesSubplot:>"
      ]
     },
     "execution_count": 4,
     "metadata": {},
     "output_type": "execute_result"
    },
    {
     "data": {
      "image/png": "[encoded data removed]",
      "text/plain": [
       "<Figure size 432x288 with 1 Axes>"
      ]
     },
     "metadata": {
      "needs_background": "light"
     },
     "output_type": "display_data"
    }
   ],
   "source": [
    "df.plot.bar()\n",
    "#creates a bar plot between the marks obtained and the hours studied"
   ]
  },
  {
   "cell_type": "code",
   "execution_count": 5,
   "id": "92e828a8",
   "metadata": {},
   "outputs": [
    {
     "data": {
      "image/png": "[encoded data removed]",
      "text/plain": [
       "<Figure size 432x288 with 1 Axes>"
      ]
     },
     "metadata": {
      "needs_background": "light"
     },
     "output_type": "display_data"
    }
   ],
   "source": [
    "df.plot.scatter(x=\"Hours\", y=\"Scores\")\n",
    "pyplt.title('Hours vs Percentage')  \n",
    "pyplt.xlabel('Hours Studied')  \n",
    "pyplt.ylabel('Percentage Score')  \n",
    "pyplt.show()\n",
    "#creates a scatter plot to visualise the data in a better way"
   ]
  },
  {
   "cell_type": "markdown",
   "id": "dd23cb49",
   "metadata": {},
   "source": [
    "From the graphs above, it is clearly visible that there is a relation between the marks obtained by the student with the hours he/she studies, i.e., the more hours he/she puts in, the more marks the student gets. So, we must train the machine with the dataset now."
   ]
  },
  {
   "cell_type": "markdown",
   "id": "a5462894",
   "metadata": {},
   "source": [
    "### **Splitting the dataset**"
   ]
  },
  {
   "cell_type": "code",
   "execution_count": 6,
   "id": "99123a4a",
   "metadata": {},
   "outputs": [],
   "source": [
    "X = df.iloc[:, :-1].values  \n",
    "y = df.iloc[:, 1].values  \n",
    "#this converts the dataset into a 2D array for training the dataset"
   ]
  },
  {
   "cell_type": "code",
   "execution_count": 7,
   "id": "e8c98357",
   "metadata": {},
   "outputs": [],
   "source": [
    "from sklearn.model_selection import train_test_split"
   ]
  },
  {
   "cell_type": "code",
   "execution_count": 8,
   "id": "4ec2cdcf",
   "metadata": {},
   "outputs": [],
   "source": [
    "X_train, X_test, y_train, y_test=train_test_split(X, y, test_size=0.25, random_state=0)"
   ]
  },
  {
   "cell_type": "markdown",
   "id": "6ff18aaa",
   "metadata": {},
   "source": [
    "### **Training the machine with the data**"
   ]
  },
  {
   "cell_type": "code",
   "execution_count": 9,
   "id": "11a77d3b",
   "metadata": {},
   "outputs": [],
   "source": [
    "from sklearn.linear_model import LinearRegression"
   ]
  },
  {
   "cell_type": "code",
   "execution_count": 10,
   "id": "5fbcf871",
   "metadata": {},
   "outputs": [],
   "source": [
    "lm=LinearRegression()"
   ]
  },
  {
   "cell_type": "code",
   "execution_count": 11,
   "id": "18ac5b51",
   "metadata": {},
   "outputs": [
    {
     "name": "stdout",
     "output_type": "stream",
     "text": [
      "Data trained into the machine succesfully!!\n"
     ]
    }
   ],
   "source": [
    "lm.fit(X_train, y_train)\n",
    "\n",
    "print(\"Data trained into the machine succesfully!!\")"
   ]
  },
  {
   "cell_type": "markdown",
   "id": "827de28f",
   "metadata": {},
   "source": [
    "### **Making predictions with the trained model**"
   ]
  },
  {
   "cell_type": "code",
   "execution_count": 12,
   "id": "2e8507a7",
   "metadata": {},
   "outputs": [
    {
     "name": "stdout",
     "output_type": "stream",
     "text": [
      "[16.84472176 33.74557494 75.50062397 26.7864001  60.58810646 39.71058194\n",
      " 20.8213931 ]\n",
      "[[1.5]\n",
      " [3.2]\n",
      " [7.4]\n",
      " [2.5]\n",
      " [5.9]\n",
      " [3.8]\n",
      " [1.9]]\n"
     ]
    }
   ],
   "source": [
    "predictions=lm.predict(X_test)\n",
    "\n",
    "print(predictions)\n",
    "print(X_test)"
   ]
  },
  {
   "cell_type": "markdown",
   "id": "5c9605d6",
   "metadata": {},
   "source": [
    "**Comparing the predictions with the actual data**"
   ]
  },
  {
   "cell_type": "code",
   "execution_count": 14,
   "id": "aac79139",
   "metadata": {},
   "outputs": [
    {
     "data": {
      "text/html": [
       "<div>\n",
       "<style scoped>\n",
       "    .dataframe tbody tr th:only-of-type {\n",
       "        vertical-align: middle;\n",
       "    }\n",
       "\n",
       "    .dataframe tbody tr th {\n",
       "        vertical-align: top;\n",
       "    }\n",
       "\n",
       "    .dataframe thead th {\n",
       "        text-align: right;\n",
       "    }\n",
       "</style>\n",
       "<table border=\"1\" class=\"dataframe\">\n",
       "  <thead>\n",
       "    <tr style=\"text-align: right;\">\n",
       "      <th></th>\n",
       "      <th>Actual</th>\n",
       "      <th>Predicted</th>\n",
       "    </tr>\n",
       "  </thead>\n",
       "  <tbody>\n",
       "    <tr>\n",
       "      <th>0</th>\n",
       "      <td>20</td>\n",
       "      <td>16.844722</td>\n",
       "    </tr>\n",
       "    <tr>\n",
       "      <th>1</th>\n",
       "      <td>27</td>\n",
       "      <td>33.745575</td>\n",
       "    </tr>\n",
       "    <tr>\n",
       "      <th>2</th>\n",
       "      <td>69</td>\n",
       "      <td>75.500624</td>\n",
       "    </tr>\n",
       "    <tr>\n",
       "      <th>3</th>\n",
       "      <td>30</td>\n",
       "      <td>26.786400</td>\n",
       "    </tr>\n",
       "    <tr>\n",
       "      <th>4</th>\n",
       "      <td>62</td>\n",
       "      <td>60.588106</td>\n",
       "    </tr>\n",
       "    <tr>\n",
       "      <th>5</th>\n",
       "      <td>35</td>\n",
       "      <td>39.710582</td>\n",
       "    </tr>\n",
       "    <tr>\n",
       "      <th>6</th>\n",
       "      <td>24</td>\n",
       "      <td>20.821393</td>\n",
       "    </tr>\n",
       "  </tbody>\n",
       "</table>\n",
       "</div>"
      ],
      "text/plain": [
       "   Actual  Predicted\n",
       "0      20  16.844722\n",
       "1      27  33.745575\n",
       "2      69  75.500624\n",
       "3      30  26.786400\n",
       "4      62  60.588106\n",
       "5      35  39.710582\n",
       "6      24  20.821393"
      ]
     },
     "execution_count": 14,
     "metadata": {},
     "output_type": "execute_result"
    }
   ],
   "source": [
    "df1 = pd.DataFrame({'Actual': y_test, 'Predicted': predictions})  \n",
    "df1"
   ]
  },
  {
   "cell_type": "markdown",
   "id": "03fefb3e",
   "metadata": {},
   "source": [
    "**Evaluation of the trained model**\n",
    "\\nWe should now evaluate the model of how well or poor the model can predict"
   ]
  },
  {
   "cell_type": "code",
   "execution_count": 15,
   "id": "48d44a5c",
   "metadata": {},
   "outputs": [
    {
     "name": "stdout",
     "output_type": "stream",
     "text": [
      "Mean Absolute Error: 4.130879918502482\n",
      "Mean Squared Error: 20.33292367497996\n",
      "Root Mean Squared Error: 4.509204328368805\n"
     ]
    }
   ],
   "source": [
    "from sklearn import metrics  \n",
    "print('Mean Absolute Error:', metrics.mean_absolute_error(y_test, predictions)) \n",
    "print('Mean Squared Error:', metrics.mean_squared_error(y_test, predictions))\n",
    "print('Root Mean Squared Error:', np.sqrt(metrics.mean_squared_error(y_test, predictions)))"
   ]
  },
  {
   "cell_type": "markdown",
   "id": "3f195518",
   "metadata": {},
   "source": [
    "**Predicting the marks of the student who studies for 9.25 hours**"
   ]
  },
  {
   "cell_type": "code",
   "execution_count": 16,
   "id": "092fdea9",
   "metadata": {},
   "outputs": [
    {
     "name": "stdout",
     "output_type": "stream",
     "text": [
      "No of Hours =  9.25\n",
      "Predicted Score =  93.89272889341652\n"
     ]
    }
   ],
   "source": [
    "#here, we set the hour variable as 9.25 and predict the score for that dataset only.\n",
    "#note that we can also predict the data for different values by taking input from the user too!\n",
    "hour = 9.25\n",
    "pred1= lm.predict(np.array([hour]).reshape(1, 1))\n",
    "#this reshapes the data into a 2D array so that the predict function can predict the value of the single value accordingly\n",
    "\n",
    "print(\"No of Hours = \", hour)\n",
    "print(\"Predicted Score = \", pred1[0])"
   ]
  },
  {
   "cell_type": "code",
   "execution_count": null,
   "id": "a966899e",
   "metadata": {},
   "outputs": [],
   "source": []
  }
 ],
 "metadata": {
  "kernelspec": {
   "display_name": "Python 3 (ipykernel)",
   "language": "python",
   "name": "python3"
  },
  "language_info": {
   "codemirror_mode": {
    "name": "ipython",
    "version": 3
   },
   "file_extension": ".py",
   "mimetype": "text/x-python",
   "name": "python",
   "nbconvert_exporter": "python",
   "pygments_lexer": "ipython3",
   "version": "3.9.12"
  }
 },
 "nbformat": 4,
 "nbformat_minor": 5
}
